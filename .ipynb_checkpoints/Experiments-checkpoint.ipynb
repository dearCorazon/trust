{
 "cells": [
  {
   "cell_type": "code",
   "execution_count": null,
   "metadata": {
    "pycharm": {
     "is_executing": false
    }
   },
   "outputs": [],
   "source": [
    "%matplotlib inline\n",
    "import matplotlib.pyplot as plt\n",
    "import matplotlib;\n",
    "import numpy as np\n",
    "import random\n",
    "import math\n",
    "import skfuzzy as fuzz\n",
    "from tqdm import tqdm_notebook\n",
    "from environment import *\n",
    "from experiment import *\n",
    "\n",
    "np.seterr(all='raise')"
   ]
  },
  {
   "cell_type": "code",
   "execution_count": null,
   "metadata": {
    "pycharm": {
     "is_executing": false
    }
   },
   "outputs": [],
   "source": [
    "x_tr = np.linspace(0, 1, 11)"
   ]
  },
  {
   "cell_type": "code",
   "execution_count": null,
   "metadata": {
    "pycharm": {
     "is_executing": false
    }
   },
   "outputs": [],
   "source": [
    "tr_v_bad = fuzz.trapmf(x_tr, [0., 0., 0.1, 0.2])\n",
    "tr_bad = fuzz.trapmf(x_tr, [0.1, 0.2, 0.4, 0.5])\n",
    "tr_norm = fuzz.trapmf(x_tr, [0.4, 0.5, 0.6, 0.7])\n",
    "tr_good = fuzz.trapmf(x_tr, [0.6, 0.7, 0.8, 0.9])\n",
    "tr_v_good = fuzz.trapmf(x_tr, [0.8, 0.9, 1., 1.])"
   ]
  },
  {
   "cell_type": "code",
   "execution_count": null,
   "metadata": {
    "pycharm": {
     "is_executing": true
    }
   },
   "outputs": [],
   "source": [
    "plt.figure(figsize=(12,9))\n",
    "plt.plot(x_tr, tr_v_bad, linewidth=1.5, label='Very bad')\n",
    "plt.plot(x_tr, tr_bad, linewidth=1.5, label='Bad')\n",
    "plt.plot(x_tr, tr_norm, linewidth=1.5, label='Normal')\n",
    "plt.plot(x_tr, tr_good, linewidth=1.5, label='Good')\n",
    "plt.plot(x_tr, tr_v_good, linewidth=1.5, label='Very good')\n",
    "plt.title('Transaction quality')\n",
    "plt.legend(loc='right')\n",
    "# plt.savefig('mbfs.png', bbox_inches='tight')\n",
    "plt.show()"
   ]
  },
  {
   "cell_type": "code",
   "execution_count": null,
   "metadata": {
    "pycharm": {
     "is_executing": true
    },
    "scrolled": true
   },
   "outputs": [],
   "source": [
    "def convert_type2(t):\n",
    "    return np.array([t[0], t[2], t[3], t[5]]), np.array([t[1], t[2], t[3], t[4]])\n",
    "\n",
    "def trapmf2(t, x_tr=np.linspace(0, 1, 11)):\n",
    "    t1, t2 = convert_type2(t)\n",
    "    return fuzz.trapmf(x_tr, t1), fuzz.trapmf(x_tr, t2)"
   ]
  },
  {
   "cell_type": "code",
   "execution_count": null,
   "metadata": {
    "pycharm": {
     "is_executing": false
    }
   },
   "outputs": [],
   "source": [
    "x_tr_2 = np.array([0., 0.05, 0.1, 0.15, 0.2, 0.3, 0.4, 0.45, 0.5, 0.55, 0.6, 0.65, 0.7, 0.75, 0.8, 0.85, 0.9, 1.])\n",
    "tr_v_bad_2 = trapmf2(x_tr=x_tr_2, t=np.array([0., 0., 0., 0.1, 0.2, 0.3]))\n",
    "tr_bad_2 = trapmf2(x_tr=x_tr_2, t=np.array([0.05, 0.15, 0.2, 0.4, 0.45, 0.5]))\n",
    "tr_norm_2 = trapmf2(x_tr=x_tr_2, t=np.array([0.3, 0.4, 0.5, 0.6, 0.65, 0.75]))\n",
    "tr_good_2 = trapmf2(x_tr=x_tr_2, t=np.array([0.55, 0.65, 0.7, 0.8, 0.85, 0.9]))\n",
    "tr_v_good_2 = trapmf2(x_tr=x_tr_2, t=np.array([0.8, 0.85, 0.9, 1., 1., 1.]))"
   ]
  },
  {
   "cell_type": "code",
   "execution_count": null,
   "metadata": {
    "pycharm": {
     "is_executing": false
    },
    "scrolled": false
   },
   "outputs": [],
   "source": [
    "plt.figure(figsize=(12,9))\n",
    "plt.fill_between(x_tr_2, tr_v_bad_2[0], tr_v_bad_2[1], color='b', alpha=0.5, label='Very bad')\n",
    "plt.fill_between(x_tr_2, tr_bad_2[0], tr_bad_2[1], color='C1', alpha=0.5, label='Bad')\n",
    "plt.fill_between(x_tr_2, tr_norm_2[0], tr_norm_2[1], color='g', alpha=0.5, label='Normal')\n",
    "plt.fill_between(x_tr_2, tr_good_2[0], tr_good_2[1], color='r', alpha=0.5, label='Good')\n",
    "plt.fill_between(x_tr_2, tr_v_good_2[0], tr_v_good_2[1], color='m', alpha=0.5, label='Very good')\n",
    "plt.title('Transaction quality')\n",
    "plt.legend(loc='right')\n",
    "# plt.savefig('mbfs_type_2', bbox_inches='tight')\n",
    "plt.show()"
   ]
  },
  {
   "cell_type": "code",
   "execution_count": null,
   "metadata": {
    "pycharm": {
     "is_executing": false
    }
   },
   "outputs": [],
   "source": [
    "SIM_NUM = 10000\n",
    "RATE = 0.15\n",
    "TRUST_UPDATE = 100\n",
    "PEER_NUM = 1000\n",
    "PRE_TRUSTED_RATE = 0.05\n",
    "MIN_CAT_PEER_RATE = 0.05\n",
    "CATS_NUM = 10"
   ]
  },
  {
   "cell_type": "code",
   "execution_count": null,
   "metadata": {
    "pycharm": {
     "is_executing": false
    }
   },
   "outputs": [],
   "source": [
    "rates = np.arange(0.1, 0.36, 0.025)\n",
    "nums = np.arange(1000, 3501, 500)\n",
    "methods = ['centroid', 'bisector', 'mom', 'som', 'lom']"
   ]
  },
  {
   "cell_type": "code",
   "execution_count": null,
   "metadata": {
    "pycharm": {
     "is_executing": true
    }
   },
   "outputs": [],
   "source": [
    "res_dict_1 = malicious_rate_exp(rates, sim_num=SIM_NUM, peer_num=PEER_NUM, min_cat_peer_rate=MIN_CAT_PEER_RATE, \n",
    "                                cats_num=CATS_NUM, trust_upd=TRUST_UPDATE, pre_trusted_rate=PRE_TRUSTED_RATE)"
   ]
  },
  {
   "cell_type": "code",
   "execution_count": null,
   "metadata": {
    "pycharm": {
     "is_executing": true
    }
   },
   "outputs": [],
   "source": [
    "plot_malicious_rate_exp(res_dict_1)"
   ]
  },
  {
   "cell_type": "code",
   "execution_count": null,
   "metadata": {
    "pycharm": {
     "is_executing": true
    }
   },
   "outputs": [],
   "source": [
    "res_dict_2 = convergence_exp(nums, sim_num=SIM_NUM, rate=RATE, min_cat_peer_rate=MIN_CAT_PEER_RATE, \n",
    "                                cats_num=CATS_NUM, trust_upd=TRUST_UPDATE, pre_trusted_rate=PRE_TRUSTED_RATE)"
   ]
  },
  {
   "cell_type": "code",
   "execution_count": null,
   "metadata": {
    "pycharm": {
     "is_executing": true
    }
   },
   "outputs": [],
   "source": [
    "plot_convergence_exp(res_dict_2)"
   ]
  },
  {
   "cell_type": "code",
   "execution_count": null,
   "metadata": {
    "pycharm": {
     "is_executing": true
    }
   },
   "outputs": [],
   "source": [
    "res_dict_3 = robustness_exp(nums, sim_num=SIM_NUM, rate=RATE, min_cat_peer_rate=MIN_CAT_PEER_RATE, \n",
    "                                cats_num=CATS_NUM, trust_upd=TRUST_UPDATE, pre_trusted_rate=PRE_TRUSTED_RATE)"
   ]
  },
  {
   "cell_type": "code",
   "execution_count": null,
   "metadata": {
    "pycharm": {
     "is_executing": true
    }
   },
   "outputs": [],
   "source": [
    "plot_robust_exp(res_dict_3)"
   ]
  },
  {
   "cell_type": "code",
   "execution_count": null,
   "metadata": {
    "pycharm": {
     "is_executing": true
    }
   },
   "outputs": [],
   "source": [
    "res_dict_11 = malicious_rate_exp_1(rates, sim_num=SIM_NUM, peer_num=PEER_NUM, min_cat_peer_rate=MIN_CAT_PEER_RATE, \n",
    "                                cats_num=CATS_NUM, trust_upd=TRUST_UPDATE, pre_trusted_rate=PRE_TRUSTED_RATE)"
   ]
  },
  {
   "cell_type": "code",
   "execution_count": null,
   "metadata": {
    "pycharm": {
     "is_executing": true
    }
   },
   "outputs": [],
   "source": [
    "plot_malicious_rate_exp_1(res_dict_11)"
   ]
  },
  {
   "cell_type": "code",
   "execution_count": null,
   "metadata": {
    "pycharm": {
     "is_executing": true
    }
   },
   "outputs": [],
   "source": [
    "res_dict_21 = convergence_exp_1(nums, sim_num=SIM_NUM, rate=RATE, min_cat_peer_rate=MIN_CAT_PEER_RATE, \n",
    "                                cats_num=CATS_NUM, trust_upd=TRUST_UPDATE, pre_trusted_rate=PRE_TRUSTED_RATE)"
   ]
  },
  {
   "cell_type": "code",
   "execution_count": null,
   "metadata": {
    "pycharm": {
     "is_executing": true
    }
   },
   "outputs": [],
   "source": [
    "plot_convergence_exp_1(res_dict_21)"
   ]
  },
  {
   "cell_type": "code",
   "execution_count": null,
   "metadata": {
    "pycharm": {
     "is_executing": true
    }
   },
   "outputs": [],
   "source": [
    "res_dict_31 = robustness_exp_1(nums, sim_num=SIM_NUM, rate=RATE, min_cat_peer_rate=MIN_CAT_PEER_RATE, \n",
    "                                cats_num=CATS_NUM, trust_upd=TRUST_UPDATE, pre_trusted_rate=PRE_TRUSTED_RATE)"
   ]
  },
  {
   "cell_type": "code",
   "execution_count": null,
   "metadata": {
    "pycharm": {
     "is_executing": true
    }
   },
   "outputs": [],
   "source": [
    "plot_robust_exp_1(res_dict_31)"
   ]
  },
  {
   "cell_type": "code",
   "execution_count": null,
   "metadata": {
    "pycharm": {
     "is_executing": true
    },
    "scrolled": true
   },
   "outputs": [],
   "source": [
    "res = defuzz_exp(methods, peer_num=PEER_NUM, sim_num=SIM_NUM, rate=RATE, min_cat_peer_rate=MIN_CAT_PEER_RATE, \n",
    "                            cats_num=CATS_NUM, trust_upd=TRUST_UPDATE, pre_trusted_rate=PRE_TRUSTED_RATE)"
   ]
  },
  {
   "cell_type": "code",
   "execution_count": null,
   "metadata": {
    "pycharm": {
     "is_executing": true
    }
   },
   "outputs": [],
   "source": [
    "plot_defuzz_exp(methods, res)"
   ]
  },
  {
   "cell_type": "code",
   "execution_count": null,
   "metadata": {
    "pycharm": {
     "is_executing": true
    }
   },
   "outputs": [],
   "source": [
    "res_dict_defuzz_1 = defuzz_malicious_rate_exp(rates, peer_num=PEER_NUM, sim_num=SIM_NUM, min_cat_peer_rate=MIN_CAT_PEER_RATE, \n",
    "                            cats_num=CATS_NUM, trust_upd=TRUST_UPDATE, pre_trusted_rate=PRE_TRUSTED_RATE)"
   ]
  },
  {
   "cell_type": "code",
   "execution_count": null,
   "metadata": {
    "pycharm": {
     "is_executing": true
    }
   },
   "outputs": [],
   "source": [
    "plot_defuzz_malicious_rate_exp(res_dict_defuzz_1)"
   ]
  },
  {
   "cell_type": "code",
   "execution_count": null,
   "metadata": {
    "pycharm": {
     "is_executing": true
    }
   },
   "outputs": [],
   "source": [
    "res_dict_defuzz_2 = defuzz_robustness_exp(nums, sim_num=SIM_NUM, rate=RATE, min_cat_peer_rate=MIN_CAT_PEER_RATE, \n",
    "                            cats_num=CATS_NUM, trust_upd=TRUST_UPDATE, pre_trusted_rate=PRE_TRUSTED_RATE)"
   ]
  },
  {
   "cell_type": "code",
   "execution_count": null,
   "metadata": {
    "pycharm": {
     "is_executing": true
    }
   },
   "outputs": [],
   "source": [
    "plot_defuzz_robust_exp(res_dict_defuzz_2)"
   ]
  },
  {
   "cell_type": "code",
   "execution_count": null,
   "metadata": {
    "pycharm": {
     "is_executing": true
    }
   },
   "outputs": [],
   "source": [
    "res_dict_type2_1 = malicious_rate_exp_2(rates, peer_num=PEER_NUM, sim_num=SIM_NUM, min_cat_peer_rate=MIN_CAT_PEER_RATE, \n",
    "                            cats_num=CATS_NUM, trust_upd=TRUST_UPDATE, pre_trusted_rate=PRE_TRUSTED_RATE)"
   ]
  },
  {
   "cell_type": "code",
   "execution_count": null,
   "metadata": {
    "pycharm": {
     "is_executing": true
    }
   },
   "outputs": [],
   "source": [
    "plot_malicious_rate_exp_2(res_dict_type2_1)"
   ]
  },
  {
   "cell_type": "code",
   "execution_count": null,
   "metadata": {
    "pycharm": {
     "is_executing": true
    }
   },
   "outputs": [],
   "source": [
    "res_dict_type2_2 = robustness_exp_2(nums, sim_num=SIM_NUM, rate=RATE, min_cat_peer_rate=MIN_CAT_PEER_RATE, \n",
    "                            cats_num=CATS_NUM, trust_upd=TRUST_UPDATE, pre_trusted_rate=PRE_TRUSTED_RATE)"
   ]
  },
  {
   "cell_type": "code",
   "execution_count": null,
   "metadata": {
    "pycharm": {
     "is_executing": true
    }
   },
   "outputs": [],
   "source": [
    "plot_robust_exp_2(res_dict_type2_2)"
   ]
  },
  {
   "cell_type": "code",
   "execution_count": null,
   "metadata": {
    "pycharm": {
     "is_executing": true
    }
   },
   "outputs": [],
   "source": []
  },
  {
   "cell_type": "code",
   "execution_count": null,
   "metadata": {},
   "outputs": [],
   "source": []
  },
  {
   "cell_type": "code",
   "execution_count": null,
   "metadata": {},
   "outputs": [],
   "source": []
  },
  {
   "cell_type": "code",
   "execution_count": null,
   "metadata": {},
   "outputs": [],
   "source": []
  },
  {
   "cell_type": "code",
   "execution_count": null,
   "metadata": {},
   "outputs": [],
   "source": []
  },
  {
   "cell_type": "code",
   "execution_count": null,
   "metadata": {},
   "outputs": [],
   "source": []
  }
 ],
 "metadata": {
  "kernelspec": {
   "display_name": "Python 3",
   "language": "python",
   "name": "python3"
  },
  "language_info": {
   "codemirror_mode": {
    "name": "ipython",
    "version": 3
   },
   "file_extension": ".py",
   "mimetype": "text/x-python",
   "name": "python",
   "nbconvert_exporter": "python",
   "pygments_lexer": "ipython3",
   "version": "3.7.11"
  }
 },
 "nbformat": 4,
 "nbformat_minor": 2
}
